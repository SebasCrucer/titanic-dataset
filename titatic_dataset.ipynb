{
 "cells": [
  {
   "cell_type": "markdown",
   "metadata": {},
   "source": [
    "# Parcial 1 - Titanic Dataset (OPTIMIZADO)\n",
    "## Predicción de Supervivencia con Red Neuronal\n",
    "\n",
    "**Curso:** Modelos de Pronóstico  \n",
    "**Fecha:** 2 de Octubre, 2025\n",
    "\n",
    "**Objetivo:** Predecir supervivencia con Red Neuronal optimizada (F1 > 0.80)"
   ]
  },
  {
   "cell_type": "markdown",
   "metadata": {},
   "source": [
    "## 1. Importar Librerías"
   ]
  },
  {
   "cell_type": "code",
   "execution_count": 58,
   "metadata": {},
   "outputs": [
    {
     "name": "stdout",
     "output_type": "stream",
     "text": [
      "Librerias importadas\n"
     ]
    }
   ],
   "source": [
    "import pandas as pd\n",
    "import numpy as np\n",
    "import matplotlib.pyplot as plt\n",
    "import seaborn as sns\n",
    "import warnings\n",
    "warnings.filterwarnings('ignore')\n",
    "\n",
    "from sklearn.neural_network import MLPClassifier\n",
    "from sklearn.model_selection import train_test_split\n",
    "from sklearn.preprocessing import StandardScaler\n",
    "from sklearn.metrics import accuracy_score, precision_score, recall_score, f1_score\n",
    "from sklearn.metrics import confusion_matrix, classification_report\n",
    "\n",
    "np.random.seed(42)\n",
    "plt.style.use('default')\n",
    "sns.set_palette('Set2')\n",
    "\n",
    "print(\"Librerias importadas\")"
   ]
  },
  {
   "cell_type": "markdown",
   "metadata": {},
   "source": [
    "## 2. Cargar Datos"
   ]
  },
  {
   "cell_type": "code",
   "execution_count": 59,
   "metadata": {},
   "outputs": [
    {
     "name": "stdout",
     "output_type": "stream",
     "text": [
      "Train: (891, 12)\n",
      "Test: (418, 11)\n"
     ]
    },
    {
     "data": {
      "text/html": [
       "<div>\n",
       "<style scoped>\n",
       "    .dataframe tbody tr th:only-of-type {\n",
       "        vertical-align: middle;\n",
       "    }\n",
       "\n",
       "    .dataframe tbody tr th {\n",
       "        vertical-align: top;\n",
       "    }\n",
       "\n",
       "    .dataframe thead th {\n",
       "        text-align: right;\n",
       "    }\n",
       "</style>\n",
       "<table border=\"1\" class=\"dataframe\">\n",
       "  <thead>\n",
       "    <tr style=\"text-align: right;\">\n",
       "      <th></th>\n",
       "      <th>PassengerId</th>\n",
       "      <th>Survived</th>\n",
       "      <th>Pclass</th>\n",
       "      <th>Name</th>\n",
       "      <th>Sex</th>\n",
       "      <th>Age</th>\n",
       "      <th>SibSp</th>\n",
       "      <th>Parch</th>\n",
       "      <th>Ticket</th>\n",
       "      <th>Fare</th>\n",
       "      <th>Cabin</th>\n",
       "      <th>Embarked</th>\n",
       "    </tr>\n",
       "  </thead>\n",
       "  <tbody>\n",
       "    <tr>\n",
       "      <th>0</th>\n",
       "      <td>1</td>\n",
       "      <td>0</td>\n",
       "      <td>3</td>\n",
       "      <td>Braund, Mr. Owen Harris</td>\n",
       "      <td>male</td>\n",
       "      <td>22.0</td>\n",
       "      <td>1</td>\n",
       "      <td>0</td>\n",
       "      <td>A/5 21171</td>\n",
       "      <td>7.2500</td>\n",
       "      <td>NaN</td>\n",
       "      <td>S</td>\n",
       "    </tr>\n",
       "    <tr>\n",
       "      <th>1</th>\n",
       "      <td>2</td>\n",
       "      <td>1</td>\n",
       "      <td>1</td>\n",
       "      <td>Cumings, Mrs. John Bradley (Florence Briggs Th...</td>\n",
       "      <td>female</td>\n",
       "      <td>38.0</td>\n",
       "      <td>1</td>\n",
       "      <td>0</td>\n",
       "      <td>PC 17599</td>\n",
       "      <td>71.2833</td>\n",
       "      <td>C85</td>\n",
       "      <td>C</td>\n",
       "    </tr>\n",
       "    <tr>\n",
       "      <th>2</th>\n",
       "      <td>3</td>\n",
       "      <td>1</td>\n",
       "      <td>3</td>\n",
       "      <td>Heikkinen, Miss. Laina</td>\n",
       "      <td>female</td>\n",
       "      <td>26.0</td>\n",
       "      <td>0</td>\n",
       "      <td>0</td>\n",
       "      <td>STON/O2. 3101282</td>\n",
       "      <td>7.9250</td>\n",
       "      <td>NaN</td>\n",
       "      <td>S</td>\n",
       "    </tr>\n",
       "    <tr>\n",
       "      <th>3</th>\n",
       "      <td>4</td>\n",
       "      <td>1</td>\n",
       "      <td>1</td>\n",
       "      <td>Futrelle, Mrs. Jacques Heath (Lily May Peel)</td>\n",
       "      <td>female</td>\n",
       "      <td>35.0</td>\n",
       "      <td>1</td>\n",
       "      <td>0</td>\n",
       "      <td>113803</td>\n",
       "      <td>53.1000</td>\n",
       "      <td>C123</td>\n",
       "      <td>S</td>\n",
       "    </tr>\n",
       "    <tr>\n",
       "      <th>4</th>\n",
       "      <td>5</td>\n",
       "      <td>0</td>\n",
       "      <td>3</td>\n",
       "      <td>Allen, Mr. William Henry</td>\n",
       "      <td>male</td>\n",
       "      <td>35.0</td>\n",
       "      <td>0</td>\n",
       "      <td>0</td>\n",
       "      <td>373450</td>\n",
       "      <td>8.0500</td>\n",
       "      <td>NaN</td>\n",
       "      <td>S</td>\n",
       "    </tr>\n",
       "  </tbody>\n",
       "</table>\n",
       "</div>"
      ],
      "text/plain": [
       "   PassengerId  Survived  Pclass  \\\n",
       "0            1         0       3   \n",
       "1            2         1       1   \n",
       "2            3         1       3   \n",
       "3            4         1       1   \n",
       "4            5         0       3   \n",
       "\n",
       "                                                Name     Sex   Age  SibSp  \\\n",
       "0                            Braund, Mr. Owen Harris    male  22.0      1   \n",
       "1  Cumings, Mrs. John Bradley (Florence Briggs Th...  female  38.0      1   \n",
       "2                             Heikkinen, Miss. Laina  female  26.0      0   \n",
       "3       Futrelle, Mrs. Jacques Heath (Lily May Peel)  female  35.0      1   \n",
       "4                           Allen, Mr. William Henry    male  35.0      0   \n",
       "\n",
       "   Parch            Ticket     Fare Cabin Embarked  \n",
       "0      0         A/5 21171   7.2500   NaN        S  \n",
       "1      0          PC 17599  71.2833   C85        C  \n",
       "2      0  STON/O2. 3101282   7.9250   NaN        S  \n",
       "3      0            113803  53.1000  C123        S  \n",
       "4      0            373450   8.0500   NaN        S  "
      ]
     },
     "execution_count": 59,
     "metadata": {},
     "output_type": "execute_result"
    }
   ],
   "source": [
    "train = pd.read_csv('./Titanic/train.csv')\n",
    "test = pd.read_csv('./Titanic/test.csv')\n",
    "\n",
    "print(f\"Train: {train.shape}\")\n",
    "print(f\"Test: {test.shape}\")\n",
    "\n",
    "test_passenger_ids = test['PassengerId'].copy()\n",
    "\n",
    "train.head()"
   ]
  },
  {
   "cell_type": "markdown",
   "metadata": {},
   "source": [
    "## 3. Exploración Rápida"
   ]
  },
  {
   "cell_type": "code",
   "execution_count": 60,
   "metadata": {},
   "outputs": [
    {
     "name": "stdout",
     "output_type": "stream",
     "text": [
      "============================================================\n",
      "INFORMACION\n",
      "============================================================\n",
      "<class 'pandas.core.frame.DataFrame'>\n",
      "RangeIndex: 891 entries, 0 to 890\n",
      "Data columns (total 12 columns):\n",
      " #   Column       Non-Null Count  Dtype  \n",
      "---  ------       --------------  -----  \n",
      " 0   PassengerId  891 non-null    int64  \n",
      " 1   Survived     891 non-null    int64  \n",
      " 2   Pclass       891 non-null    int64  \n",
      " 3   Name         891 non-null    object \n",
      " 4   Sex          891 non-null    object \n",
      " 5   Age          714 non-null    float64\n",
      " 6   SibSp        891 non-null    int64  \n",
      " 7   Parch        891 non-null    int64  \n",
      " 8   Ticket       891 non-null    object \n",
      " 9   Fare         891 non-null    float64\n",
      " 10  Cabin        204 non-null    object \n",
      " 11  Embarked     889 non-null    object \n",
      "dtypes: float64(2), int64(5), object(5)\n",
      "memory usage: 83.7+ KB\n",
      "\n",
      "============================================================\n",
      "VALORES NULOS\n",
      "============================================================\n",
      "PassengerId      0\n",
      "Survived         0\n",
      "Pclass           0\n",
      "Name             0\n",
      "Sex              0\n",
      "Age            177\n",
      "SibSp            0\n",
      "Parch            0\n",
      "Ticket           0\n",
      "Fare             0\n",
      "Cabin          687\n",
      "Embarked         2\n",
      "dtype: int64\n"
     ]
    }
   ],
   "source": [
    "print(\"=\"*60)\n",
    "print(\"INFORMACION\")\n",
    "print(\"=\"*60)\n",
    "train.info()\n",
    "\n",
    "print(\"\\n\" + \"=\"*60)\n",
    "print(\"VALORES NULOS\")\n",
    "print(\"=\"*60)\n",
    "print(train.isnull().sum())"
   ]
  },
  {
   "cell_type": "code",
   "execution_count": 61,
   "metadata": {},
   "outputs": [
    {
     "data": {
      "image/png": "[encoded data removed]",
      "text/plain": [
       "<Figure size 1500x400 with 3 Axes>"
      ]
     },
     "metadata": {},
     "output_type": "display_data"
    }
   ],
   "source": [
    "fig, axes = plt.subplots(1, 3, figsize=(15, 4))\n",
    "\n",
    "train['Survived'].value_counts().plot(kind='bar', ax=axes[0], color=['red', 'green'])\n",
    "axes[0].set_title('Supervivencia')\n",
    "axes[0].set_xticklabels(['No', 'Si'], rotation=0)\n",
    "\n",
    "pd.crosstab(train['Sex'], train['Survived']).plot(kind='bar', ax=axes[1], color=['red', 'green'])\n",
    "axes[1].set_title('Por Sexo')\n",
    "axes[1].set_xticklabels(['Mujer', 'Hombre'], rotation=0)\n",
    "axes[1].legend(['No', 'Si'])\n",
    "\n",
    "pd.crosstab(train['Pclass'], train['Survived']).plot(kind='bar', ax=axes[2], color=['red', 'green'])\n",
    "axes[2].set_title('Por Clase')\n",
    "axes[2].set_xticklabels(['1ra', '2da', '3ra'], rotation=0)\n",
    "axes[2].legend(['No', 'Si'])\n",
    "\n",
    "plt.tight_layout()\n",
    "plt.show()"
   ]
  },
  {
   "cell_type": "markdown",
   "metadata": {},
   "source": [
    "## 4. Preprocesamiento OPTIMIZADO (CON ALINEACION)"
   ]
  },
  {
   "cell_type": "code",
   "execution_count": 62,
   "metadata": {},
   "outputs": [
    {
     "name": "stdout",
     "output_type": "stream",
     "text": [
      "Paso 1: Preprocesamiento base...\n",
      "Completado\n"
     ]
    }
   ],
   "source": [
    "def preprocesar_base(df):\n",
    "    \"\"\"Preprocesamiento sin one-hot encoding\"\"\"\n",
    "    df = df.copy()\n",
    "    \n",
    "    # Feature Engineering basico\n",
    "    df['TamanoFamilia'] = df['SibSp'] + df['Parch'] + 1\n",
    "    df['ViajaS olo'] = (df['TamanoFamilia'] == 1).astype(int)\n",
    "    \n",
    "    # Titulo\n",
    "    df['Titulo'] = df['Name'].str.extract(' ([A-Za-z]+)\\.', expand=False)\n",
    "    df['Titulo'] = df['Titulo'].replace(['Lady', 'Countess','Capt', 'Col', 'Don', 'Dr', \n",
    "                                           'Major', 'Rev', 'Sir', 'Jonkheer', 'Dona'], 'Raro')\n",
    "    df['Titulo'] = df['Titulo'].replace('Mlle', 'Miss')\n",
    "    df['Titulo'] = df['Titulo'].replace('Ms', 'Miss')\n",
    "    df['Titulo'] = df['Titulo'].replace('Mme', 'Mrs')\n",
    "    \n",
    "    df['TieneCabina'] = df['Cabin'].notna().astype(int)\n",
    "    \n",
    "    # Deck\n",
    "    df['Deck'] = df['Cabin'].str[0]\n",
    "    df['Deck'] = df['Deck'].fillna('U')\n",
    "    \n",
    "    # Imputacion\n",
    "    for pclass in df['Pclass'].unique():\n",
    "        for sex in df['Sex'].unique():\n",
    "            mask = (df['Pclass'] == pclass) & (df['Sex'] == sex)\n",
    "            mediana = df[mask]['Age'].median()\n",
    "            df.loc[mask & df['Age'].isna(), 'Age'] = mediana\n",
    "    df['Age'].fillna(df['Age'].median(), inplace=True)\n",
    "    df['Embarked'].fillna(df['Embarked'].mode()[0], inplace=True)\n",
    "    df['Fare'].fillna(df['Fare'].median(), inplace=True)\n",
    "    \n",
    "    # Feature Engineering avanzado\n",
    "    df['EsNino'] = (df['Age'] < 12).astype(int)\n",
    "    df['EsJoven'] = ((df['Age'] >= 12) & (df['Age'] < 20)).astype(int)\n",
    "    df['EsAdulto'] = ((df['Age'] >= 20) & (df['Age'] < 60)).astype(int)\n",
    "    df['EsAnciano'] = (df['Age'] >= 60).astype(int)\n",
    "    \n",
    "    df['FamiliaPequena'] = (df['TamanoFamilia'] <= 1).astype(int)\n",
    "    df['FamiliaMediana'] = ((df['TamanoFamilia'] > 1) & (df['TamanoFamilia'] <= 4)).astype(int)\n",
    "    df['FamiliaGrande'] = (df['TamanoFamilia'] > 4).astype(int)\n",
    "    \n",
    "    df['TarifaPorPersona'] = df['Fare'] / df['TamanoFamilia']\n",
    "    \n",
    "    df['TarifaBaja'] = (df['Fare'] <= 7.91).astype(int)\n",
    "    df['TarifaMedia'] = ((df['Fare'] > 7.91) & (df['Fare'] <= 14.454)).astype(int)\n",
    "    df['TarifaMediaAlta'] = ((df['Fare'] > 14.454) & (df['Fare'] <= 31)).astype(int)\n",
    "    df['TarifaAlta'] = (df['Fare'] > 31).astype(int)\n",
    "    \n",
    "    df['Sexo_Numerico'] = (df['Sex'] == 'male').astype(int)\n",
    "    df['Sexo_x_Clase'] = df['Sexo_Numerico'] * df['Pclass']\n",
    "    df['Edad_x_Clase'] = df['Age'] * df['Pclass']\n",
    "    \n",
    "    df['Mujer_Primera'] = ((df['Sex'] == 'female') & (df['Pclass'] == 1)).astype(int)\n",
    "    df['Hombre_Tercera'] = ((df['Sex'] == 'male') & (df['Pclass'] == 3)).astype(int)\n",
    "    \n",
    "    return df\n",
    "\n",
    "print(\"Paso 1: Preprocesamiento base...\")\n",
    "train_prep = preprocesar_base(train)\n",
    "test_prep = preprocesar_base(test)\n",
    "print(\"Completado\")"
   ]
  },
  {
   "cell_type": "code",
   "execution_count": 63,
   "metadata": {},
   "outputs": [
    {
     "name": "stdout",
     "output_type": "stream",
     "text": [
      "Paso 2: One-hot encoding alineado...\n",
      "Completado\n",
      "Train: (891, 51)\n",
      "Test: (418, 50)\n",
      "Valores nulos train: 687\n",
      "Valores nulos test: 327\n"
     ]
    }
   ],
   "source": [
    "# Aplicar one-hot encoding de forma ALINEADA\n",
    "print(\"Paso 2: One-hot encoding alineado...\")\n",
    "\n",
    "# Embarked\n",
    "embarked_train = pd.get_dummies(train_prep['Embarked'], prefix='Puerto')\n",
    "embarked_test = pd.get_dummies(test_prep['Embarked'], prefix='Puerto')\n",
    "\n",
    "# Titulo\n",
    "titulo_train = pd.get_dummies(train_prep['Titulo'], prefix='Titulo')\n",
    "titulo_test = pd.get_dummies(test_prep['Titulo'], prefix='Titulo')\n",
    "\n",
    "# Deck\n",
    "deck_train = pd.get_dummies(train_prep['Deck'], prefix='Deck')\n",
    "deck_test = pd.get_dummies(test_prep['Deck'], prefix='Deck')\n",
    "\n",
    "# Alinear columnas: asegurar que test tenga todas las columnas de train\n",
    "for col in embarked_train.columns:\n",
    "    if col not in embarked_test.columns:\n",
    "        embarked_test[col] = 0\n",
    "        \n",
    "for col in titulo_train.columns:\n",
    "    if col not in titulo_test.columns:\n",
    "        titulo_test[col] = 0\n",
    "        \n",
    "for col in deck_train.columns:\n",
    "    if col not in deck_test.columns:\n",
    "        deck_test[col] = 0\n",
    "\n",
    "# Alinear en el otro sentido: asegurar que train tenga todas las columnas de test\n",
    "for col in embarked_test.columns:\n",
    "    if col not in embarked_train.columns:\n",
    "        embarked_train[col] = 0\n",
    "        \n",
    "for col in titulo_test.columns:\n",
    "    if col not in titulo_train.columns:\n",
    "        titulo_train[col] = 0\n",
    "        \n",
    "for col in deck_test.columns:\n",
    "    if col not in deck_train.columns:\n",
    "        deck_train[col] = 0\n",
    "\n",
    "# Reordenar columnas para que coincidan\n",
    "embarked_test = embarked_test[embarked_train.columns]\n",
    "titulo_test = titulo_test[titulo_train.columns]\n",
    "deck_test = deck_test[deck_train.columns]\n",
    "\n",
    "# Concatenar\n",
    "train_prep = pd.concat([train_prep, embarked_train, titulo_train, deck_train], axis=1)\n",
    "test_prep = pd.concat([test_prep, embarked_test, titulo_test, deck_test], axis=1)\n",
    "\n",
    "print(\"Completado\")\n",
    "print(f\"Train: {train_prep.shape}\")\n",
    "print(f\"Test: {test_prep.shape}\")\n",
    "print(f\"Valores nulos train: {train_prep.isnull().sum().sum()}\")\n",
    "print(f\"Valores nulos test: {test_prep.isnull().sum().sum()}\")"
   ]
  },
  {
   "cell_type": "markdown",
   "metadata": {},
   "source": [
    "## 5. Preparar Datos"
   ]
  },
  {
   "cell_type": "code",
   "execution_count": 64,
   "metadata": {},
   "outputs": [
    {
     "name": "stdout",
     "output_type": "stream",
     "text": [
      "Features: 42\n",
      "X_train: (891, 42)\n",
      "X_test: (418, 42)\n",
      "\n",
      "Primeras 10 features:\n",
      "  1. Pclass\n",
      "  2. Sexo_Numerico\n",
      "  3. Age\n",
      "  4. SibSp\n",
      "  5. Parch\n",
      "  6. Fare\n",
      "  7. TamanoFamilia\n",
      "  8. ViajaS olo\n",
      "  9. TieneCabina\n",
      "  10. EsNino\n",
      "  ... y 32 mas\n"
     ]
    }
   ],
   "source": [
    "# Seleccionar features\n",
    "features = ['Pclass', 'Sexo_Numerico', 'Age', 'SibSp', 'Parch', 'Fare',\n",
    "            'TamanoFamilia', 'ViajaS olo', 'TieneCabina',\n",
    "            'EsNino', 'EsJoven', 'EsAdulto', 'EsAnciano',\n",
    "            'FamiliaPequena', 'FamiliaMediana', 'FamiliaGrande',\n",
    "            'TarifaPorPersona', 'TarifaBaja', 'TarifaMedia', 'TarifaMediaAlta', 'TarifaAlta',\n",
    "            'Sexo_x_Clase', 'Edad_x_Clase', 'Mujer_Primera', 'Hombre_Tercera'] + \\\n",
    "           [col for col in train_prep.columns if col.startswith('Puerto_')] + \\\n",
    "           [col for col in train_prep.columns if col.startswith('Titulo_')] + \\\n",
    "           [col for col in train_prep.columns if col.startswith('Deck_')]\n",
    "\n",
    "X = train_prep[features]\n",
    "y = train_prep['Survived']\n",
    "X_test = test_prep[features]\n",
    "\n",
    "print(f\"Features: {len(features)}\")\n",
    "print(f\"X_train: {X.shape}\")\n",
    "print(f\"X_test: {X_test.shape}\")\n",
    "print(f\"\\nPrimeras 10 features:\")\n",
    "for i, f in enumerate(features[:10], 1):\n",
    "    print(f\"  {i}. {f}\")\n",
    "print(f\"  ... y {len(features)-10} mas\")"
   ]
  },
  {
   "cell_type": "code",
   "execution_count": 65,
   "metadata": {},
   "outputs": [
    {
     "name": "stdout",
     "output_type": "stream",
     "text": [
      "Train: 712 muestras\n",
      "Val: 179 muestras\n"
     ]
    }
   ],
   "source": [
    "# Normalizar\n",
    "scaler = StandardScaler()\n",
    "X_scaled = scaler.fit_transform(X)\n",
    "X_test_scaled = scaler.transform(X_test)\n",
    "\n",
    "# Split\n",
    "X_train, X_val, y_train, y_val = train_test_split(\n",
    "    X_scaled, y, test_size=0.2, random_state=42, stratify=y\n",
    ")\n",
    "\n",
    "print(f\"Train: {X_train.shape[0]} muestras\")\n",
    "print(f\"Val: {X_val.shape[0]} muestras\")"
   ]
  },
  {
   "cell_type": "markdown",
   "metadata": {},
   "source": [
    "## 6. Modelos de Red Neuronal"
   ]
  },
  {
   "cell_type": "code",
   "execution_count": 66,
   "metadata": {},
   "outputs": [
    {
     "name": "stdout",
     "output_type": "stream",
     "text": [
      "Configuraciones:\n",
      "\n",
      "Modelo 1: (100, 50, 25)\n",
      "\n",
      "Modelo 2: (150, 100, 50, 25)\n",
      "\n",
      "Modelo 3: (200, 150, 100, 50, 25)\n"
     ]
    }
   ],
   "source": [
    "configuraciones = {\n",
    "    'Modelo 1': {\n",
    "        'hidden_layer_sizes': (100, 50, 25),\n",
    "        'activation': 'relu',\n",
    "        'solver': 'adam',\n",
    "        'alpha': 0.0001,\n",
    "        'learning_rate': 'adaptive',\n",
    "        'learning_rate_init': 0.001,\n",
    "        'max_iter': 1000,\n",
    "        'random_state': 42\n",
    "    },\n",
    "    'Modelo 2': {\n",
    "        'hidden_layer_sizes': (150, 100, 50, 25),\n",
    "        'activation': 'relu',\n",
    "        'solver': 'adam',\n",
    "        'alpha': 0.0001,\n",
    "        'learning_rate': 'adaptive',\n",
    "        'learning_rate_init': 0.001,\n",
    "        'max_iter': 1000,\n",
    "        'random_state': 42\n",
    "    },\n",
    "    'Modelo 3': {\n",
    "        'hidden_layer_sizes': (200, 150, 100, 50, 25),\n",
    "        'activation': 'relu',\n",
    "        'solver': 'adam',\n",
    "        'alpha': 0.00005,\n",
    "        'learning_rate': 'adaptive',\n",
    "        'learning_rate_init': 0.001,\n",
    "        'max_iter': 1000,\n",
    "        'random_state': 42\n",
    "    }\n",
    "}\n",
    "\n",
    "print(\"Configuraciones:\")\n",
    "for nombre, config in configuraciones.items():\n",
    "    print(f\"\\n{nombre}: {config['hidden_layer_sizes']}\")"
   ]
  },
  {
   "cell_type": "code",
   "execution_count": 67,
   "metadata": {},
   "outputs": [
    {
     "name": "stdout",
     "output_type": "stream",
     "text": [
      "\n",
      "============================================================\n",
      "Entrenando: Modelo 1\n",
      "============================================================\n",
      "Accuracy: 0.7989 | F1: 0.7429 | F1-Clase-1: 0.7429\n",
      "\n",
      "============================================================\n",
      "Entrenando: Modelo 2\n",
      "============================================================\n",
      "Accuracy: 0.8156 | F1: 0.7442 | F1-Clase-1: 0.7442\n",
      "\n",
      "============================================================\n",
      "Entrenando: Modelo 3\n",
      "============================================================\n",
      "Accuracy: 0.7877 | F1: 0.7031 | F1-Clase-1: 0.7031\n",
      "\n",
      "============================================================\n",
      "ENTRENAMIENTO COMPLETADO\n",
      "============================================================\n"
     ]
    }
   ],
   "source": [
    "modelos = {}\n",
    "resultados = {}\n",
    "\n",
    "for nombre, config in configuraciones.items():\n",
    "    print(f\"\\n{'='*60}\")\n",
    "    print(f\"Entrenando: {nombre}\")\n",
    "    print(f\"{'='*60}\")\n",
    "    \n",
    "    modelo = MLPClassifier(**config, early_stopping=True, validation_fraction=0.1, \n",
    "                           n_iter_no_change=20, verbose=False)\n",
    "    modelo.fit(X_train, y_train)\n",
    "    \n",
    "    y_pred_val = modelo.predict(X_val)\n",
    "    \n",
    "    acc = accuracy_score(y_val, y_pred_val)\n",
    "    f1 = f1_score(y_val, y_pred_val)\n",
    "    f1_0 = f1_score(y_val, y_pred_val, pos_label=0)\n",
    "    f1_1 = f1_score(y_val, y_pred_val, pos_label=1)\n",
    "    \n",
    "    modelos[nombre] = modelo\n",
    "    resultados[nombre] = {\n",
    "        'Accuracy': acc,\n",
    "        'F1-Score': f1,\n",
    "        'F1-Clase-0': f1_0,\n",
    "        'F1-Clase-1': f1_1\n",
    "    }\n",
    "    \n",
    "    print(f\"Accuracy: {acc:.4f} | F1: {f1:.4f} | F1-Clase-1: {f1_1:.4f}\")\n",
    "\n",
    "print(f\"\\n{'='*60}\")\n",
    "print(\"ENTRENAMIENTO COMPLETADO\")\n",
    "print(f\"{'='*60}\")"
   ]
  },
  {
   "cell_type": "markdown",
   "metadata": {},
   "source": [
    "## 7. Comparación"
   ]
  },
  {
   "cell_type": "code",
   "execution_count": 68,
   "metadata": {},
   "outputs": [
    {
     "name": "stdout",
     "output_type": "stream",
     "text": [
      "\n",
      "================================================================================\n",
      "COMPARACION DE MODELOS\n",
      "================================================================================\n",
      "          Accuracy  F1-Score  F1-Clase-0  F1-Clase-1\n",
      "Modelo 1    0.7989    0.7429      0.8349      0.7429\n",
      "Modelo 2    0.8156    0.7442      0.8559      0.7442\n",
      "Modelo 3    0.7877    0.7031      0.8348      0.7031\n",
      "\n",
      "================================================================================\n",
      "MEJOR: Modelo 2\n",
      "F1-Clase-1: 0.7442\n",
      "Estado: SUPERA 0.7\n",
      "================================================================================\n"
     ]
    }
   ],
   "source": [
    "df_resultados = pd.DataFrame(resultados).T.round(4)\n",
    "\n",
    "print(\"\\n\" + \"=\"*80)\n",
    "print(\"COMPARACION DE MODELOS\")\n",
    "print(\"=\"*80)\n",
    "print(df_resultados)\n",
    "\n",
    "mejor = df_resultados['F1-Clase-1'].idxmax()\n",
    "mejor_f1 = df_resultados.loc[mejor, 'F1-Clase-1']\n",
    "\n",
    "print(f\"\\n{'='*80}\")\n",
    "print(f\"MEJOR: {mejor}\")\n",
    "print(f\"F1-Clase-1: {mejor_f1:.4f}\")\n",
    "print(f\"Estado: {'SUPERA 0.7' if mejor_f1 > 0.7 else 'NO supera'}\")\n",
    "if mejor_f1 > 0.8:\n",
    "    print(\"EXCELENTE: Supera 0.8!\")\n",
    "print(f\"{'='*80}\")"
   ]
  },
  {
   "cell_type": "code",
   "execution_count": 69,
   "metadata": {},
   "outputs": [
    {
     "data": {
      "image/png": "[encoded data removed]",
      "text/plain": [
       "<Figure size 1500x500 with 2 Axes>"
      ]
     },
     "metadata": {},
     "output_type": "display_data"
    }
   ],
   "source": [
    "fig, axes = plt.subplots(1, 2, figsize=(15, 5))\n",
    "\n",
    "df_resultados[['Accuracy', 'F1-Score']].plot(kind='bar', ax=axes[0], rot=0)\n",
    "axes[0].set_title('Metricas', fontsize=14, fontweight='bold')\n",
    "axes[0].set_ylim([0.75, 0.90])\n",
    "axes[0].grid(axis='y', alpha=0.3)\n",
    "\n",
    "df_resultados[['F1-Clase-0', 'F1-Clase-1']].plot(kind='bar', ax=axes[1], rot=0, color=['red', 'green'])\n",
    "axes[1].set_title('F1 por Clase', fontsize=14, fontweight='bold')\n",
    "axes[1].axhline(y=0.7, color='blue', linestyle='--', label='0.7')\n",
    "axes[1].axhline(y=0.8, color='green', linestyle='--', label='0.8')\n",
    "axes[1].set_ylim([0.65, 0.95])\n",
    "axes[1].grid(axis='y', alpha=0.3)\n",
    "axes[1].legend()\n",
    "\n",
    "plt.tight_layout()\n",
    "plt.show()"
   ]
  },
  {
   "cell_type": "code",
   "execution_count": 70,
   "metadata": {},
   "outputs": [
    {
     "data": {
      "image/png": "[encoded data removed]",
      "text/plain": [
       "<Figure size 1800x500 with 3 Axes>"
      ]
     },
     "metadata": {},
     "output_type": "display_data"
    }
   ],
   "source": [
    "fig, axes = plt.subplots(1, 3, figsize=(18, 5))\n",
    "\n",
    "for idx, (nombre, modelo) in enumerate(modelos.items()):\n",
    "    y_pred = modelo.predict(X_val)\n",
    "    cm = confusion_matrix(y_val, y_pred)\n",
    "    \n",
    "    sns.heatmap(cm, annot=True, fmt='d', cmap='Blues', cbar=False, ax=axes[idx],\n",
    "                xticklabels=['No', 'Si'], yticklabels=['No', 'Si'])\n",
    "    axes[idx].set_title(f'{nombre}\\nF1: {resultados[nombre][\"F1-Clase-1\"]:.4f}', \n",
    "                        fontsize=11, fontweight='bold')\n",
    "    axes[idx].set_ylabel('Real' if idx == 0 else '')\n",
    "    axes[idx].set_xlabel('Predicho')\n",
    "\n",
    "plt.tight_layout()\n",
    "plt.show()"
   ]
  },
  {
   "cell_type": "code",
   "execution_count": 71,
   "metadata": {},
   "outputs": [
    {
     "name": "stdout",
     "output_type": "stream",
     "text": [
      "\n",
      "REPORTE - Modelo 2\n",
      "================================================================================\n",
      "              precision    recall  f1-score   support\n",
      "\n",
      "          No       0.82      0.89      0.86       110\n",
      "          Si       0.80      0.70      0.74        69\n",
      "\n",
      "    accuracy                           0.82       179\n",
      "   macro avg       0.81      0.79      0.80       179\n",
      "weighted avg       0.81      0.82      0.81       179\n",
      "\n"
     ]
    }
   ],
   "source": [
    "print(f\"\\nREPORTE - {mejor}\")\n",
    "print(\"=\"*80)\n",
    "y_pred_val = modelos[mejor].predict(X_val)\n",
    "print(classification_report(y_val, y_pred_val, target_names=['No', 'Si']))"
   ]
  },
  {
   "cell_type": "markdown",
   "metadata": {},
   "source": [
    "## 8. Modelo Final"
   ]
  },
  {
   "cell_type": "code",
   "execution_count": 72,
   "metadata": {},
   "outputs": [
    {
     "name": "stdout",
     "output_type": "stream",
     "text": [
      "Reentrenando Modelo 2...\n",
      "\n",
      "RESULTADOS FINALES:\n",
      "Accuracy: 0.8709\n",
      "F1-Score: 0.8177\n",
      "SUPERA 0.7\n",
      "EXCELENTE!\n"
     ]
    }
   ],
   "source": [
    "print(f\"Reentrenando {mejor}...\")\n",
    "\n",
    "config = configuraciones[mejor]\n",
    "modelo_final = MLPClassifier(**config, early_stopping=True, validation_fraction=0.1, \n",
    "                              n_iter_no_change=20, verbose=False)\n",
    "modelo_final.fit(X_scaled, y)\n",
    "\n",
    "y_pred = modelo_final.predict(X_scaled)\n",
    "acc_final = accuracy_score(y, y_pred)\n",
    "f1_final = f1_score(y, y_pred)\n",
    "\n",
    "print(f\"\\nRESULTADOS FINALES:\")\n",
    "print(f\"Accuracy: {acc_final:.4f}\")\n",
    "print(f\"F1-Score: {f1_final:.4f}\")\n",
    "if f1_final > 0.7:\n",
    "    print(\"SUPERA 0.7\")\n",
    "if f1_final > 0.8:\n",
    "    print(\"EXCELENTE!\")"
   ]
  },
  {
   "cell_type": "code",
   "execution_count": 73,
   "metadata": {},
   "outputs": [
    {
     "data": {
      "image/png": "[encoded data removed]",
      "text/plain": [
       "<Figure size 800x600 with 1 Axes>"
      ]
     },
     "metadata": {},
     "output_type": "display_data"
    },
    {
     "name": "stdout",
     "output_type": "stream",
     "text": [
      "\n",
      "Reporte:\n",
      "              precision    recall  f1-score   support\n",
      "\n",
      "          No       0.86      0.94      0.90       549\n",
      "          Si       0.89      0.75      0.82       342\n",
      "\n",
      "    accuracy                           0.87       891\n",
      "   macro avg       0.88      0.85      0.86       891\n",
      "weighted avg       0.87      0.87      0.87       891\n",
      "\n"
     ]
    }
   ],
   "source": [
    "cm = confusion_matrix(y, y_pred)\n",
    "\n",
    "plt.figure(figsize=(8, 6))\n",
    "sns.heatmap(cm, annot=True, fmt='d', cmap='Greens', cbar=False,\n",
    "            xticklabels=['No', 'Si'], yticklabels=['No', 'Si'])\n",
    "plt.title(f'Confusion Matrix\\n{mejor} - F1: {f1_final:.4f}', \n",
    "          fontsize=14, fontweight='bold', pad=15)\n",
    "plt.ylabel('Real')\n",
    "plt.xlabel('Predicho')\n",
    "plt.tight_layout()\n",
    "plt.show()\n",
    "\n",
    "print(\"\\nReporte:\")\n",
    "print(classification_report(y, y_pred, target_names=['No', 'Si']))"
   ]
  },
  {
   "cell_type": "code",
   "execution_count": 74,
   "metadata": {},
   "outputs": [
    {
     "name": "stdout",
     "output_type": "stream",
     "text": [
      "Predicciones en TEST...\n",
      "Total: 418\n",
      "No: 271 (64.8%)\n",
      "Si: 147 (35.2%)\n"
     ]
    },
    {
     "data": {
      "image/png": "[encoded data removed]",
      "text/plain": [
       "<Figure size 1200x400 with 2 Axes>"
      ]
     },
     "metadata": {},
     "output_type": "display_data"
    }
   ],
   "source": [
    "print(\"Predicciones en TEST...\")\n",
    "\n",
    "y_test_pred = modelo_final.predict(X_test_scaled)\n",
    "\n",
    "print(f\"Total: {len(y_test_pred)}\")\n",
    "print(f\"No: {(y_test_pred==0).sum()} ({(y_test_pred==0).sum()/len(y_test_pred)*100:.1f}%)\")\n",
    "print(f\"Si: {(y_test_pred==1).sum()} ({(y_test_pred==1).sum()/len(y_test_pred)*100:.1f}%)\")\n",
    "\n",
    "fig, axes = plt.subplots(1, 2, figsize=(12, 4))\n",
    "\n",
    "pd.Series(y_test_pred).value_counts().plot(kind='bar', ax=axes[0], color=['red', 'green'])\n",
    "axes[0].set_title('Predicciones', fontsize=12)\n",
    "axes[0].set_xticklabels(['No', 'Si'], rotation=0)\n",
    "\n",
    "pd.Series(y_test_pred).value_counts().plot(kind='pie', ax=axes[1], autopct='%1.1f%%', colors=['red', 'green'])\n",
    "axes[1].set_title('Porcentaje', fontsize=12)\n",
    "axes[1].set_ylabel('')\n",
    "\n",
    "plt.tight_layout()\n",
    "plt.show()"
   ]
  },
  {
   "cell_type": "markdown",
   "metadata": {},
   "source": [
    "## 9. Exportar"
   ]
  },
  {
   "cell_type": "code",
   "execution_count": 75,
   "metadata": {},
   "outputs": [
    {
     "name": "stdout",
     "output_type": "stream",
     "text": [
      "================================================================================\n",
      "GUARDADO\n",
      "================================================================================\n",
      "Archivo: mi_resultado.csv\n",
      "Total: 418\n",
      "\n",
      "Primeras 10:\n",
      "   PassengerId  Survived\n",
      "0          892         0\n",
      "1          893         0\n",
      "2          894         0\n",
      "3          895         0\n",
      "4          896         0\n",
      "5          897         0\n",
      "6          898         0\n",
      "7          899         0\n",
      "8          900         1\n",
      "9          901         0\n",
      "\n",
      "Ultimas 10:\n",
      "     PassengerId  Survived\n",
      "408         1300         1\n",
      "409         1301         1\n",
      "410         1302         1\n",
      "411         1303         1\n",
      "412         1304         0\n",
      "413         1305         0\n",
      "414         1306         1\n",
      "415         1307         0\n",
      "416         1308         0\n",
      "417         1310         1\n"
     ]
    }
   ],
   "source": [
    "resultado = pd.DataFrame({\n",
    "    'PassengerId': test_passenger_ids,\n",
    "    'Survived': y_test_pred\n",
    "})\n",
    "\n",
    "resultado.to_csv('./Titanic/mi_resultado.csv', index=False)\n",
    "\n",
    "print(\"=\"*80)\n",
    "print(\"GUARDADO\")\n",
    "print(\"=\"*80)\n",
    "print(f\"Archivo: mi_resultado.csv\")\n",
    "print(f\"Total: {len(resultado)}\")\n",
    "print(f\"\\nPrimeras 10:\")\n",
    "print(resultado.head(10))\n",
    "print(f\"\\nUltimas 10:\")\n",
    "print(resultado.tail(10))"
   ]
  },
  {
   "cell_type": "markdown",
   "metadata": {},
   "source": [
    "## 10. Resumen"
   ]
  },
  {
   "cell_type": "code",
   "execution_count": 76,
   "metadata": {},
   "outputs": [
    {
     "name": "stdout",
     "output_type": "stream",
     "text": [
      "\n",
      "================================================================================\n",
      "                         RESUMEN FINAL\n",
      "================================================================================\n",
      "\n",
      "Datos: 891 train, 418 test\n",
      "Features: 42\n",
      "\n",
      "Optimizaciones:\n",
      "  + Feature engineering avanzado\n",
      "  + Categorias edad y familia\n",
      "  + Interacciones importantes\n",
      "  + Tarifa por persona\n",
      "  + Deck de cabina\n",
      "  + Redes profundas\n",
      "  + Learning rate adaptativo\n",
      "\n",
      "Modelos:\n",
      "  Modelo 1: F1-Clase-1 = 0.7429\n",
      "  Modelo 2: F1-Clase-1 = 0.7442\n",
      "  Modelo 3: F1-Clase-1 = 0.7031\n",
      "\n",
      "Mejor: Modelo 2\n",
      "Arquitectura: (150, 100, 50, 25)\n",
      "F1 Final: 0.8177\n",
      "\n",
      "================================================================================\n",
      "                                COMPLETADO\n",
      "================================================================================\n"
     ]
    }
   ],
   "source": [
    "print(\"\\n\" + \"=\"*80)\n",
    "print(\" \"*25 + \"RESUMEN FINAL\")\n",
    "print(\"=\"*80)\n",
    "\n",
    "print(f\"\\nDatos: {len(train)} train, {len(test)} test\")\n",
    "print(f\"Features: {len(features)}\")\n",
    "\n",
    "print(\"\\nOptimizaciones:\")\n",
    "print(\"  + Feature engineering avanzado\")\n",
    "print(\"  + Categorias edad y familia\")\n",
    "print(\"  + Interacciones importantes\")\n",
    "print(\"  + Tarifa por persona\")\n",
    "print(\"  + Deck de cabina\")\n",
    "print(\"  + Redes profundas\")\n",
    "print(\"  + Learning rate adaptativo\")\n",
    "\n",
    "print(\"\\nModelos:\")\n",
    "for nombre in modelos.keys():\n",
    "    print(f\"  {nombre}: F1-Clase-1 = {resultados[nombre]['F1-Clase-1']:.4f}\")\n",
    "\n",
    "print(f\"\\nMejor: {mejor}\")\n",
    "print(f\"Arquitectura: {configuraciones[mejor]['hidden_layer_sizes']}\")\n",
    "print(f\"F1 Final: {f1_final:.4f}\")\n",
    "\n",
    "print(\"\\n\" + \"=\"*80)\n",
    "print(\" \"*32 + \"COMPLETADO\")\n",
    "print(\"=\"*80)"
   ]
  }
 ],
 "metadata": {
  "kernelspec": {
   "display_name": "Python 3",
   "language": "python",
   "name": "python3"
  },
  "language_info": {
   "codemirror_mode": {
    "name": "ipython",
    "version": 3
   },
   "file_extension": ".py",
   "mimetype": "text/x-python",
   "name": "python",
   "nbconvert_exporter": "python",
   "pygments_lexer": "ipython3",
   "version": "3.8.0"
  }
 },
 "nbformat": 4,
 "nbformat_minor": 4
}
